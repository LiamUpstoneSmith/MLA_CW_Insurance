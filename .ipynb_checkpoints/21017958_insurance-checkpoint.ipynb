{
 "cells": [
  {
   "cell_type": "markdown",
   "id": "639ae29b-8b33-402c-8723-5f526a49a6d3",
   "metadata": {},
   "source": [
    "# Insurance Dataset\n",
    "## Author\n",
    "- Liam Upstone-Smith\n",
    "- 21017958"
   ]
  },
  {
   "cell_type": "markdown",
   "id": "80358755-c3dd-496c-a038-09771395457e",
   "metadata": {},
   "source": [
    "### Research Question\n",
    "(Each Jupyter notebook should begin with \n",
    "a brief introduction, identifying the\r\n",
    "stakeholders and outlining the resrch questions)<br>\n",
    "......"
   ]
  },
  {
   "cell_type": "markdown",
   "id": "9bc9398a-ffc8-4fcd-8719-07a6d86a7433",
   "metadata": {},
   "source": [
    "## Packages"
   ]
  },
  {
   "cell_type": "code",
   "execution_count": 6,
   "id": "fee40f1b-6486-4460-8bbd-0d8dc7965bff",
   "metadata": {},
   "outputs": [],
   "source": [
    "# Packages\n",
    "import pandas as pd\n",
    "import matplotlib.pyplot as plt\n",
    "from sklearn.preprocessing import LabelEncoder\n",
    "import numpy as np\n",
    "import time\n",
    "import seaborn as sns\n",
    "from sklearn.model_selection import train_test_split, GridSearchCV\n",
    "from sklearn.preprocessing import StandardScaler\n",
    "from sklearn.neighbors import KNeighborsClassifier\n",
    "from sklearn.metrics import accuracy_score, classification_report\n",
    "from sklearn.metrics import f1_score\n",
    "from sklearn.model_selection import cross_val_score\n",
    "from sklearn.tree import DecisionTreeClassifier, export_graphviz, plot_tree\n"
   ]
  },
  {
   "cell_type": "markdown",
   "id": "bac89ea6-7a63-4f3a-9d5d-3434b91156a1",
   "metadata": {},
   "source": [
    "## load in data"
   ]
  },
  {
   "cell_type": "code",
   "execution_count": 78,
   "id": "59da6e4a-f05f-4e5e-b7ec-3b09d3cb5cb7",
   "metadata": {},
   "outputs": [],
   "source": [
    "# Load in Insurance data as panda Dataframe\n",
    "df = pd.read_csv(\"insurance-adapted.csv\")"
   ]
  },
  {
   "cell_type": "markdown",
   "id": "98257919-4152-43af-b48f-1180c9a00a11",
   "metadata": {},
   "source": [
    "## Data Preprocessing"
   ]
  },
  {
   "cell_type": "markdown",
   "id": "7a6071d5-faa7-4f19-b078-2375b4cfa3ec",
   "metadata": {},
   "source": [
    "### Remove rows with null values\n",
    "Because, there are only 3 rows with null values, and those null values are in age which I cannot accuratly predct, I just removed those rows. Although I complely removed these rows, it still left me with over 1300 rows of data to work with."
   ]
  },
  {
   "cell_type": "code",
   "execution_count": 87,
   "id": "8288cf5e-99c5-4ae9-b093-a53f258108b9",
   "metadata": {},
   "outputs": [],
   "source": [
    "def remove_null(data):\n",
    "    print(f\"The number of rows and columns: {df.shape}\")\n",
    "\n",
    "    # Checking if there are any empty values\n",
    "    print(\"Rows with null values:\\n\", data.isnull().sum())\n",
    "\n",
    "    # Dropping the rows with missing values \n",
    "    data = data.dropna()\n",
    "    \n",
    "    # Checking if there are any empty values\n",
    "    print(\"New rows with null values:\\n\", data.isnull().sum())\n",
    "    \n",
    "    return data"
   ]
  },
  {
   "cell_type": "markdown",
   "id": "8b066b40-2675-42a2-b726-b1acd3ebfbe6",
   "metadata": {},
   "source": [
    "# Linear Regression"
   ]
  },
  {
   "cell_type": "code",
   "execution_count": 7,
   "id": "a8fee10d-1ff2-4e36-b2f7-550d874b986b",
   "metadata": {},
   "outputs": [],
   "source": [
    "import pandas as pd\n",
    "from sklearn.model_selection import train_test_split\n",
    "from sklearn.linear_model import LinearRegression\n",
    "from sklearn.metrics import mean_absolute_error, mean_squared_error\n",
    "\n",
    "from sklearn.linear_model import Ridge\n",
    "from sklearn.model_selection import GridSearchCV\n",
    "from sklearn.metrics import mean_absolute_error, mean_squared_error"
   ]
  },
  {
   "cell_type": "markdown",
   "id": "97cafcfa-4253-4abd-8c56-b5991cfb02c9",
   "metadata": {},
   "source": [
    "## Load in data"
   ]
  },
  {
   "cell_type": "code",
   "execution_count": 9,
   "id": "ced1bc1c-1689-4239-91b8-07f862640961",
   "metadata": {},
   "outputs": [],
   "source": [
    "# Load in Insurance data as panda Dataframe\n",
    "data = pd.read_csv(\"insurance-adapted.csv\")"
   ]
  },
  {
   "cell_type": "markdown",
   "id": "227153d3-f81f-4600-80e5-ecb556c90b7c",
   "metadata": {},
   "source": [
    "## Preprocessing"
   ]
  },
  {
   "cell_type": "markdown",
   "id": "135b4bbc-c0f8-4aae-9b99-398b20ddb656",
   "metadata": {},
   "source": [
    "### Encode Data"
   ]
  },
  {
   "cell_type": "code",
   "execution_count": 90,
   "id": "77a89039-d5ba-4bca-91e2-095247c43114",
   "metadata": {},
   "outputs": [
    {
     "name": "stdout",
     "output_type": "stream",
     "text": [
      "The number of rows and columns: (1338, 7)\n",
      "Rows with null values:\n",
      " age         0\n",
      "sex         0\n",
      "bmi         0\n",
      "children    0\n",
      "smoker      0\n",
      "region      0\n",
      "charges     0\n",
      "dtype: int64\n",
      "New rows with null values:\n",
      " age         0\n",
      "sex         0\n",
      "bmi         0\n",
      "children    0\n",
      "smoker      0\n",
      "region      0\n",
      "charges     0\n",
      "dtype: int64\n"
     ]
    },
    {
     "data": {
      "text/html": [
       "<div>\n",
       "<style scoped>\n",
       "    .dataframe tbody tr th:only-of-type {\n",
       "        vertical-align: middle;\n",
       "    }\n",
       "\n",
       "    .dataframe tbody tr th {\n",
       "        vertical-align: top;\n",
       "    }\n",
       "\n",
       "    .dataframe thead th {\n",
       "        text-align: right;\n",
       "    }\n",
       "</style>\n",
       "<table border=\"1\" class=\"dataframe\">\n",
       "  <thead>\n",
       "    <tr style=\"text-align: right;\">\n",
       "      <th></th>\n",
       "      <th>age</th>\n",
       "      <th>bmi</th>\n",
       "      <th>children</th>\n",
       "      <th>smoker</th>\n",
       "      <th>charges</th>\n",
       "      <th>sex_male</th>\n",
       "      <th>region_northwest</th>\n",
       "      <th>region_southeast</th>\n",
       "      <th>region_southwest</th>\n",
       "    </tr>\n",
       "  </thead>\n",
       "  <tbody>\n",
       "    <tr>\n",
       "      <th>0</th>\n",
       "      <td>19.0</td>\n",
       "      <td>27.900</td>\n",
       "      <td>0</td>\n",
       "      <td>1</td>\n",
       "      <td>16884.92400</td>\n",
       "      <td>False</td>\n",
       "      <td>False</td>\n",
       "      <td>False</td>\n",
       "      <td>True</td>\n",
       "    </tr>\n",
       "    <tr>\n",
       "      <th>1</th>\n",
       "      <td>18.0</td>\n",
       "      <td>33.770</td>\n",
       "      <td>1</td>\n",
       "      <td>0</td>\n",
       "      <td>1725.55230</td>\n",
       "      <td>True</td>\n",
       "      <td>False</td>\n",
       "      <td>True</td>\n",
       "      <td>False</td>\n",
       "    </tr>\n",
       "    <tr>\n",
       "      <th>2</th>\n",
       "      <td>28.0</td>\n",
       "      <td>33.000</td>\n",
       "      <td>3</td>\n",
       "      <td>0</td>\n",
       "      <td>4449.46200</td>\n",
       "      <td>True</td>\n",
       "      <td>False</td>\n",
       "      <td>True</td>\n",
       "      <td>False</td>\n",
       "    </tr>\n",
       "    <tr>\n",
       "      <th>3</th>\n",
       "      <td>33.0</td>\n",
       "      <td>22.705</td>\n",
       "      <td>0</td>\n",
       "      <td>0</td>\n",
       "      <td>21984.47061</td>\n",
       "      <td>True</td>\n",
       "      <td>True</td>\n",
       "      <td>False</td>\n",
       "      <td>False</td>\n",
       "    </tr>\n",
       "    <tr>\n",
       "      <th>4</th>\n",
       "      <td>32.0</td>\n",
       "      <td>28.880</td>\n",
       "      <td>0</td>\n",
       "      <td>0</td>\n",
       "      <td>3866.85520</td>\n",
       "      <td>True</td>\n",
       "      <td>True</td>\n",
       "      <td>False</td>\n",
       "      <td>False</td>\n",
       "    </tr>\n",
       "  </tbody>\n",
       "</table>\n",
       "</div>"
      ],
      "text/plain": [
       "    age     bmi  children  smoker      charges  sex_male  region_northwest  \\\n",
       "0  19.0  27.900         0       1  16884.92400     False             False   \n",
       "1  18.0  33.770         1       0   1725.55230      True             False   \n",
       "2  28.0  33.000         3       0   4449.46200      True             False   \n",
       "3  33.0  22.705         0       0  21984.47061      True              True   \n",
       "4  32.0  28.880         0       0   3866.85520      True              True   \n",
       "\n",
       "   region_southeast  region_southwest  \n",
       "0             False              True  \n",
       "1              True             False  \n",
       "2              True             False  \n",
       "3             False             False  \n",
       "4             False             False  "
      ]
     },
     "execution_count": 90,
     "metadata": {},
     "output_type": "execute_result"
    }
   ],
   "source": [
    "# Remove rows with null values\n",
    "data = remove_null(data)\n",
    "\n",
    "# Impute missing values in the 'age' column with the median\n",
    "data['age'] = data['age'].fillna(data['age'].median())\n",
    "\n",
    "# Encode categorical variables\n",
    "encoded_data = pd.get_dummies(data, columns=['sex', 'region'], drop_first=True)  # One-hot encode with drop_first=True\n",
    "encoded_data['smoker'] = encoded_data['smoker'].map({'yes': 1, 'no': 0})  # Binary encoding for smoker\n",
    "\n",
    "# Display the processed data\n",
    "encoded_data.head()"
   ]
  },
  {
   "cell_type": "markdown",
   "id": "650ed88e-161b-4561-aec5-ce9eff160b60",
   "metadata": {},
   "source": [
    "### Split Data"
   ]
  },
  {
   "cell_type": "code",
   "execution_count": 13,
   "id": "e9f94bcb-d2ca-49f8-855d-ae71897c8377",
   "metadata": {},
   "outputs": [],
   "source": [
    "# Separate features and target variable\n",
    "X = encoded_data.drop(columns='charges')\n",
    "y = encoded_data['charges']\n",
    "\n",
    "# Split the dataset into training and testing sets\n",
    "X_train, X_test, y_train, y_test = train_test_split(X, y, test_size=0.2, random_state=42)"
   ]
  },
  {
   "cell_type": "markdown",
   "id": "73a000fc-2b76-4faa-a77c-6d5ce5e79ae6",
   "metadata": {},
   "source": [
    "## Train Model"
   ]
  },
  {
   "cell_type": "code",
   "execution_count": 15,
   "id": "beb3b10d-65df-4538-a5d3-bcaf21caebc1",
   "metadata": {},
   "outputs": [
    {
     "name": "stdout",
     "output_type": "stream",
     "text": [
      "Mean Absolute Error: 4203.412754261006\n",
      "\n",
      "Mean Squared Error: 33683329.08874916\n",
      "\n",
      "Root Mean Squared Error: 5803.734064268379\n"
     ]
    }
   ],
   "source": [
    "# Train a Linear Regression model\n",
    "linear_model = LinearRegression()\n",
    "linear_model.fit(X_train, y_train)\n",
    "\n",
    "# Make predictions\n",
    "y_pred = linear_model.predict(X_test)\n",
    "\n",
    "# Evaluate the model\n",
    "mae = mean_absolute_error(y_test, y_pred)\n",
    "mse = mean_squared_error(y_test, y_pred)\n",
    "rmse = mse ** 0.5\n",
    "\n",
    "# Print out values\n",
    "print(f\"Mean Absolute Error: {mae}\")\n",
    "print(f\"\\nMean Squared Error: {mse}\")\n",
    "print(f\"\\nRoot Mean Squared Error: {rmse}\")"
   ]
  },
  {
   "cell_type": "markdown",
   "id": "f1fed007-e4b9-43bf-bacc-0c4401ff0808",
   "metadata": {},
   "source": [
    "## Ridge Regression\n",
    "Ridge Regression is a regularized form of Linear Regression that penalizes large coefficients to prevent overfitting. Smaller alpha values allows the model to act similar to Linear Regression (less regularisation), where as, larger values increase regularisation therefore reducing overfitting but possibly leading to underfitting."
   ]
  },
  {
   "cell_type": "code",
   "execution_count": 21,
   "id": "08b93668-8e20-4ac6-b85f-f90760823923",
   "metadata": {},
   "outputs": [
    {
     "name": "stdout",
     "output_type": "stream",
     "text": [
      "Best alpha: 1\n",
      "MAE: 4215.680459471409\n",
      "MSE: 33731832.18247366\n",
      "RMSE: 5807.911172054343\n"
     ]
    }
   ],
   "source": [
    "# Define Ridge Regression model\n",
    "ridge = Ridge()\n",
    "\n",
    "# Define a grid of alpha values to search over\n",
    "param_grid = {'alpha': [0.01, 0.1, 1, 10, 100, 1000]}\n",
    "\n",
    "# Use GridSearchCV to find the best alpha\n",
    "grid_search = GridSearchCV(ridge, param_grid, scoring='neg_mean_squared_error', cv=5)\n",
    "grid_search.fit(X_train, y_train)\n",
    "\n",
    "# Get the best model\n",
    "best_ridge_model = grid_search.best_estimator_\n",
    "\n",
    "# Use the best model to make predictions\n",
    "ridge_predictions = best_ridge_model.predict(X_test)\n",
    "\n",
    "# Evaluate the model\n",
    "ridge_mae = mean_absolute_error(y_test, ridge_predictions)\n",
    "ridge_mse = mean_squared_error(y_test, ridge_predictions)\n",
    "ridge_rmse = ridge_mse ** 0.5\n",
    "\n",
    "print(f\"Best alpha: {grid_search.best_params_['alpha']}\")\n",
    "print(f\"MAE: {ridge_mae}\\nMSE: {ridge_mse}\\nRMSE: {ridge_rmse}\")"
   ]
  },
  {
   "cell_type": "markdown",
   "id": "51133161-2487-4dad-a35a-199fdc0272bc",
   "metadata": {},
   "source": [
    "## Analysis\n",
    "..."
   ]
  },
  {
   "cell_type": "markdown",
   "id": "ac5eafd3-7e78-423c-837f-c6376eec9436",
   "metadata": {},
   "source": [
    "# MLP Neural Network"
   ]
  },
  {
   "cell_type": "code",
   "execution_count": 8,
   "id": "59797242-5803-41cb-8064-de3d62805470",
   "metadata": {},
   "outputs": [],
   "source": [
    "# Load in Insurance data as panda Dataframe\n",
    "data = pd.read_csv(\"insurance-adapted.csv\")"
   ]
  },
  {
   "cell_type": "markdown",
   "id": "699761df-e7bc-47de-a2a0-f0684f23583a",
   "metadata": {},
   "source": [
    "## Preprocessing"
   ]
  },
  {
   "cell_type": "code",
   "execution_count": 10,
   "id": "2c03dacb-d569-4a24-ab22-4150c231b1d8",
   "metadata": {},
   "outputs": [
    {
     "data": {
      "text/plain": [
       "((1070, 8), (268, 8))"
      ]
     },
     "execution_count": 10,
     "metadata": {},
     "output_type": "execute_result"
    }
   ],
   "source": [
    "from sklearn.model_selection import train_test_split\n",
    "from sklearn.preprocessing import StandardScaler, OneHotEncoder\n",
    "from sklearn.impute import SimpleImputer\n",
    "from sklearn.compose import ColumnTransformer\n",
    "from sklearn.pipeline import Pipeline\n",
    "\n",
    "# Separate features and target variable\n",
    "X = data.drop(columns=['charges'])\n",
    "y = data['charges']\n",
    "\n",
    "# Identify categorical and numerical columns\n",
    "categorical_cols = ['sex', 'smoker', 'region']\n",
    "numerical_cols = ['age', 'bmi', 'children']\n",
    "\n",
    "# Define preprocessing steps\n",
    "numerical_transformer = Pipeline(steps=[\n",
    "    ('imputer', SimpleImputer(strategy='mean')),  # Impute missing numerical values\n",
    "    ('scaler', StandardScaler())  # Scale numerical features\n",
    "])\n",
    "\n",
    "categorical_transformer = Pipeline(steps=[\n",
    "    ('onehot', OneHotEncoder(drop='first'))  # Encode categorical features\n",
    "])\n",
    "\n",
    "# Combine preprocessing steps\n",
    "preprocessor = ColumnTransformer(\n",
    "    transformers=[\n",
    "        ('num', numerical_transformer, numerical_cols),\n",
    "        ('cat', categorical_transformer, categorical_cols)\n",
    "    ]\n",
    ")\n",
    "\n",
    "# Split data into training and testing sets\n",
    "X_train, X_test, y_train, y_test = train_test_split(X, y, test_size=0.2, random_state=42)\n",
    "\n",
    "# Apply preprocessing\n",
    "X_train_processed = preprocessor.fit_transform(X_train)\n",
    "X_test_processed = preprocessor.transform(X_test)\n",
    "\n",
    "# Check the processed feature dimensions\n",
    "X_train_processed.shape, X_test_processed.shape"
   ]
  },
  {
   "cell_type": "markdown",
   "id": "0f9b6c2e-ffc6-4979-b625-12b7ef99b8d4",
   "metadata": {},
   "source": [
    "## Train Model"
   ]
  },
  {
   "cell_type": "code",
   "execution_count": 13,
   "id": "8980e92d-8c85-402c-ba26-b9fb3b24a8c9",
   "metadata": {},
   "outputs": [
    {
     "name": "stdout",
     "output_type": "stream",
     "text": [
      "MSE: 28327312.829712737\n",
      "R Squared: 0.8175359466224446\n"
     ]
    },
    {
     "name": "stderr",
     "output_type": "stream",
     "text": [
      "C:\\Users\\liamj\\anaconda3\\Lib\\site-packages\\sklearn\\neural_network\\_multilayer_perceptron.py:691: ConvergenceWarning: Stochastic Optimizer: Maximum iterations (1000) reached and the optimization hasn't converged yet.\n",
      "  warnings.warn(\n"
     ]
    }
   ],
   "source": [
    "from sklearn.neural_network import MLPRegressor\n",
    "from sklearn.metrics import mean_squared_error, r2_score\n",
    "\n",
    "# Define the neural network regressor\n",
    "mlp = MLPRegressor(hidden_layer_sizes=(64, 32), max_iter=2000, random_state=42)\n",
    "\n",
    "# Train the model\n",
    "mlp.fit(X_train_processed, y_train)\n",
    "\n",
    "# Make predictions on the test set\n",
    "y_pred = mlp.predict(X_test_processed)\n",
    "\n",
    "# Evaluate the model\n",
    "mse = mean_squared_error(y_test, y_pred)\n",
    "r2 = r2_score(y_test, y_pred)\n",
    "\n",
    "print(f\"MSE: {mse}\")\n",
    "print(f\"R Squared: {r2}\")"
   ]
  },
  {
   "cell_type": "markdown",
   "id": "358d4192-fc3d-4352-bfad-290ad2fec67e",
   "metadata": {},
   "source": [
    "## Hyperparameter Tuning"
   ]
  },
  {
   "cell_type": "code",
   "execution_count": 72,
   "id": "59ac95ed-e751-4881-b9c7-751fac2b57eb",
   "metadata": {},
   "outputs": [
    {
     "name": "stdout",
     "output_type": "stream",
     "text": [
      "Fitting 3 folds for each of 96 candidates, totalling 288 fits\n",
      "Best Parameters:\n",
      "{'activation': 'relu', 'alpha': 0.001, 'hidden_layer_sizes': (128, 64, 32), 'learning_rate': 'constant', 'solver': 'adam'}\n",
      "\n",
      "Best R Squared score: 0.8339239152784311\n",
      "Time taken: 309.452 seconds\n"
     ]
    }
   ],
   "source": [
    "from sklearn.model_selection import GridSearchCV\n",
    "import time\n",
    "\n",
    "#Start timer\n",
    "start = time.time()\n",
    "\n",
    "# Define a parameter grid for GridSearchCV\n",
    "param_grid = {\n",
    "    'hidden_layer_sizes': [(32,), (64, 32), (128, 64), (128, 64, 32)],\n",
    "    'activation': ['relu', 'tanh'],\n",
    "    'solver': ['adam', 'lbfgs'],\n",
    "    'learning_rate': ['constant', 'adaptive'],\n",
    "    'alpha': [0.0001, 0.001, 0.01]  # Regularization parameter\n",
    "}\n",
    "\n",
    "# Define the MLPRegressor model\n",
    "mlp = MLPRegressor(max_iter=2000, random_state=42)\n",
    "\n",
    "# Perform grid search with cross-validation\n",
    "grid_search = GridSearchCV(mlp, param_grid, scoring='r2', cv=3, n_jobs=-1, verbose=1)\n",
    "grid_search.fit(X_train_processed, y_train)\n",
    "\n",
    "# Get the best parameters and score\n",
    "best_params = grid_search.best_params_\n",
    "best_score = grid_search.best_score_\n",
    "\n",
    "print(f\"Best Parameters:\\n{best_params}\\n\")\n",
    "print(f\"Best R Squared score: {best_score}\")\n",
    "\n",
    "# End and print timer\n",
    "end = time.time()\n",
    "time_taken = round(end - start, 3)\n",
    "print(f\"Time taken: {time_taken} seconds\")"
   ]
  },
  {
   "cell_type": "markdown",
   "id": "bdfc875d-c3cb-4cfe-bec8-91fd38e7bde9",
   "metadata": {},
   "source": [
    "### With Best Parameters"
   ]
  },
  {
   "cell_type": "code",
   "execution_count": 70,
   "id": "df9685bc-e84c-4e69-93f6-99d5cab3bd6b",
   "metadata": {},
   "outputs": [
    {
     "name": "stdout",
     "output_type": "stream",
     "text": [
      "MSE: 18587269.636358112\n",
      "R Squared: 0.8802742575881012\n"
     ]
    }
   ],
   "source": [
    "# Define the neural network regressor\n",
    "mlp = MLPRegressor(**best_params, max_iter=2000, random_state=42)\n",
    "\n",
    "# Train the model\n",
    "mlp.fit(X_train_processed, y_train)\n",
    "\n",
    "# Make predictions on the test set\n",
    "y_pred = mlp.predict(X_test_processed)\n",
    "\n",
    "# Evaluate the model\n",
    "mse = mean_squared_error(y_test, y_pred)\n",
    "r2 = r2_score(y_test, y_pred)\n",
    "\n",
    "print(f\"MSE: {mse}\")\n",
    "print(f\"R Squared: {r2}\")"
   ]
  },
  {
   "cell_type": "markdown",
   "id": "75c08b5a-cde2-476e-a712-0dbcbd665dde",
   "metadata": {},
   "source": [
    "## Visualisations "
   ]
  },
  {
   "cell_type": "markdown",
   "id": "6bc0d409-e9c4-4986-b9a5-1dd2d245c2e7",
   "metadata": {},
   "source": [
    "### Predicted v True Scatter Plot"
   ]
  },
  {
   "cell_type": "code",
   "execution_count": 50,
   "id": "4ba8ec8e-7669-4846-a039-368596f55882",
   "metadata": {},
   "outputs": [
    {
     "data": {
      "image/png": "[encoded data removed]",
      "text/plain": [
       "<Figure size 640x480 with 1 Axes>"
      ]
     },
     "metadata": {},
     "output_type": "display_data"
    }
   ],
   "source": [
    "plt.scatter(y_test, y_pred, alpha=0.6)\n",
    "plt.plot([y_test.min(), y_test.max()], [y_test.min(), y_test.max()], color='red', linestyle='--', linewidth=2)\n",
    "plt.xlabel('True Values')\n",
    "plt.ylabel('Predicted Values')\n",
    "plt.title('True vs Predicted Values')\n",
    "plt.show()"
   ]
  },
  {
   "cell_type": "markdown",
   "id": "9e381225-1371-4245-a8aa-192122ef3e74",
   "metadata": {},
   "source": [
    "### Residuals plot"
   ]
  },
  {
   "cell_type": "code",
   "execution_count": 52,
   "id": "6368bbdb-4e17-4a98-9be7-02a22eb82f57",
   "metadata": {},
   "outputs": [
    {
     "data": {
      "image/png": "[encoded data removed]",
      "text/plain": [
       "<Figure size 640x480 with 1 Axes>"
      ]
     },
     "metadata": {},
     "output_type": "display_data"
    }
   ],
   "source": [
    "residuals = y_test - y_pred\n",
    "\n",
    "plt.scatter(y_pred, residuals, alpha=0.6)\n",
    "plt.axhline(y=0, color='red', linestyle='--', linewidth=2)\n",
    "plt.xlabel('Predicted Values')\n",
    "plt.ylabel('Residuals')\n",
    "plt.title('Residuals vs Predicted Values')\n",
    "plt.show()"
   ]
  },
  {
   "cell_type": "markdown",
   "id": "2fbc69ab-64d1-4147-ac99-977d7544f31a",
   "metadata": {},
   "source": [
    "### Distribution of Residuals"
   ]
  },
  {
   "cell_type": "code",
   "execution_count": 55,
   "id": "0267bad7-4b95-471d-933b-bb3f931da27f",
   "metadata": {},
   "outputs": [
    {
     "data": {
      "image/png": "[encoded data removed]",
      "text/plain": [
       "<Figure size 640x480 with 1 Axes>"
      ]
     },
     "metadata": {},
     "output_type": "display_data"
    }
   ],
   "source": [
    "import seaborn as sns\n",
    "\n",
    "sns.histplot(residuals, kde=True, bins=30, color='blue')\n",
    "plt.axvline(x=0, color='red', linestyle='--', linewidth=2)\n",
    "plt.title('Distribution of Residuals')\n",
    "plt.xlabel('Residuals')\n",
    "plt.show()"
   ]
  },
  {
   "cell_type": "markdown",
   "id": "1cf26b6c-35ad-4984-974a-9299cc2770a9",
   "metadata": {},
   "source": [
    "## Analysis\n",
    "..."
   ]
  },
  {
   "cell_type": "markdown",
   "id": "006d9d0a-5a1f-4f38-9c1d-63bf754e88b3",
   "metadata": {},
   "source": [
    "# Comparison\n",
    "..."
   ]
  },
  {
   "cell_type": "markdown",
   "id": "0c464edb-262f-4d6c-965a-ebddd0dcd572",
   "metadata": {},
   "source": [
    "# References\n",
    "-"
   ]
  }
 ],
 "metadata": {
  "kernelspec": {
   "display_name": "Python 3 (ipykernel)",
   "language": "python",
   "name": "python3"
  },
  "language_info": {
   "codemirror_mode": {
    "name": "ipython",
    "version": 3
   },
   "file_extension": ".py",
   "mimetype": "text/x-python",
   "name": "python",
   "nbconvert_exporter": "python",
   "pygments_lexer": "ipython3",
   "version": "3.12.4"
  }
 },
 "nbformat": 4,
 "nbformat_minor": 5
}
